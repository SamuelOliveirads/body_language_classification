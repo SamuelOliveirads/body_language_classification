{
 "cells": [
  {
   "cell_type": "markdown",
   "metadata": {},
   "source": [
    "# Using Body language to classify diferents actions\n",
    "\n",
    "## Background\n",
    "\n",
    "The aim of this project is to develop a system capable of classifying different actions carried out by people, using as input images or videos, which can be captured live via a webcam or provided as pre-recorded files.\n",
    "\n",
    "The project was made possible according to the [proposed planning](../docs/planning.md)\n",
    "\n",
    "## Measure of Success\n",
    "\n",
    "We don't have any criteria for classifying the actions that weight a metric such as precision or recall, so we'll use the F1-Score instead"
   ]
  },
  {
   "cell_type": "markdown",
   "metadata": {},
   "source": [
    "# 0.0 Imports"
   ]
  },
  {
   "cell_type": "code",
   "execution_count": 1,
   "metadata": {},
   "outputs": [],
   "source": [
    "import tarfile\n",
    "import zipfile\n",
    "import pickle\n",
    "import mediapipe as mp\n",
    "import cv2\n",
    "import pandas as pd\n",
    "import numpy as np\n",
    "from scipy.io import loadmat\n",
    "\n",
    "from sklearn.model_selection import train_test_split\n",
    "from sklearn.pipeline import make_pipeline \n",
    "from sklearn.preprocessing import StandardScaler \n",
    "\n",
    "from sklearn.linear_model import LogisticRegression, RidgeClassifier\n",
    "from sklearn.ensemble import RandomForestClassifier, GradientBoostingClassifier\n",
    "from sklearn.metrics import f1_score"
   ]
  },
  {
   "cell_type": "markdown",
   "metadata": {},
   "source": [
    "## 0.1 Load data"
   ]
  },
  {
   "cell_type": "markdown",
   "metadata": {},
   "source": [
    "- This data has an approximate quantity of 12 GB, to facilitate this we will provide intermediate tables with the appropriate treatments"
   ]
  },
  {
   "cell_type": "code",
   "execution_count": 2,
   "metadata": {},
   "outputs": [],
   "source": [
    "image_archive_path = '../data/01_raw/mpii_human_pose_v1.tar.gz'\n",
    "annotation_archive_path = '../data/01_raw/mpii_human_pose_v1_u12_2.zip'\n",
    "\n",
    "with tarfile.open(image_archive_path, \"r:gz\") as tar:\n",
    "    tar.extractall(path='../data/02_intermediate/')\n",
    "\n",
    "with zipfile.ZipFile(annotation_archive_path, 'r') as zip_ref:\n",
    "    zip_ref.extractall('../data/02_intermediate/')"
   ]
  },
  {
   "cell_type": "code",
   "execution_count": 42,
   "metadata": {},
   "outputs": [],
   "source": [
    "annotation_path = '../data/02_intermediate/mpii_human_pose_v1_u12_2/mpii_human_pose_v1_u12_1.mat'\n",
    "\n",
    "annotations = loadmat(annotation_path, squeeze_me=True)"
   ]
  },
  {
   "cell_type": "markdown",
   "metadata": {},
   "source": [
    "# 1.0 Process images to cordinates"
   ]
  },
  {
   "cell_type": "markdown",
   "metadata": {},
   "source": [
    "- Here I will browse through the annotations of the images to extract the information where for each image what action was taken."
   ]
  },
  {
   "cell_type": "code",
   "execution_count": 68,
   "metadata": {},
   "outputs": [
    {
     "name": "stdout",
     "output_type": "stream",
     "text": [
      "Image: 037454012.jpg, Action: []\n",
      "Image: 095071431.jpg, Action: []\n",
      "Image: 073199394.jpg, Action: []\n",
      "Image: 059865848.jpg, Action: []\n",
      "Image: 015601864.jpg, Action: curling\n"
     ]
    }
   ],
   "source": [
    "release = annotations['RELEASE']\n",
    "\n",
    "annolist = release['annolist'].item() if hasattr(release['annolist'], 'item') else release['annolist']\n",
    "act = release['act'].item() if hasattr(release['act'], 'item') else release['act']\n",
    "\n",
    "image_action_mapping = []\n",
    "\n",
    "for idx, ann in enumerate(annolist):\n",
    "    image_name = ann['image']['name'] if 'name' in ann['image'].dtype.names else \"Unknown Image\"\n",
    "    \n",
    "    if isinstance(act, np.ndarray) and idx < len(act) and 'act_name' in act[idx].dtype.names:\n",
    "        action_name = act[idx]['act_name']\n",
    "    else:\n",
    "        action_name = \"Unknown\"\n",
    "    \n",
    "    image_action_mapping.append((image_name, action_name))\n",
    "\n",
    "for mapping in image_action_mapping[:5]:\n",
    "    print(f\"Image: {mapping[0]}, Action: {mapping[1]}\")"
   ]
  },
  {
   "cell_type": "markdown",
   "metadata": {},
   "source": [
    "- Now I'm going to select images with only one action and choose 20 actions"
   ]
  },
  {
   "cell_type": "code",
   "execution_count": 78,
   "metadata": {},
   "outputs": [],
   "source": [
    "df = pd.DataFrame(image_action_mapping, columns=['ImageName', 'Action'])\n",
    "\n",
    "df_filtered = df[df['Action'] != \"Unknown\"]\n",
    "df_cleaned = df_filtered[~df_filtered['Action'].str.contains(\",| or \", regex=True)]\n",
    "\n",
    "top_20_actions = df_cleaned['Action'].value_counts().head(20).index.tolist()\n",
    "\n",
    "df_filtered = df_cleaned[df_cleaned['Action'].isin(top_20_actions)]\n",
    "\n",
    "filtered_csv_path = '../data/03_primary/filtered_actions_top_20.csv'\n",
    "df_filtered.to_csv(filtered_csv_path, index=False)"
   ]
  },
  {
   "cell_type": "code",
   "execution_count": 2,
   "metadata": {},
   "outputs": [],
   "source": [
    "filtered_csv_path = '../data/03_primary/filtered_actions_top_20.csv'\n",
    "df_filtered = pd.read_csv(filtered_csv_path)"
   ]
  },
  {
   "cell_type": "code",
   "execution_count": null,
   "metadata": {},
   "outputs": [],
   "source": [
    "print(f\"As 20 ações mais comuns são: {top_20_actions}\")\n",
    "print(df_filtered.head())"
   ]
  },
  {
   "cell_type": "markdown",
   "metadata": {},
   "source": [
    "## 1.1 Extract landmarks"
   ]
  },
  {
   "cell_type": "markdown",
   "metadata": {},
   "source": [
    "- Now for each image I'm going to use mediapipe to extract the poses and faces of the people."
   ]
  },
  {
   "cell_type": "code",
   "execution_count": 107,
   "metadata": {},
   "outputs": [
    {
     "name": "stderr",
     "output_type": "stream",
     "text": [
      "C:\\Users\\SamuelOliveiraAlvesd\\AppData\\Local\\Temp\\ipykernel_16340\\3990692539.py:41: FutureWarning: The behavior of DataFrame concatenation with empty or all-NA entries is deprecated. In a future version, this will no longer exclude empty or all-NA columns when determining the result dtypes. To retain the old behavior, exclude the relevant entries before the concat operation.\n",
      "  df_landmarks = pd.concat([df_landmarks, pd.DataFrame([row_data], columns=columns)], ignore_index=True)\n"
     ]
    }
   ],
   "source": [
    "mp_holistic = mp.solutions.holistic\n",
    "mp_drawing = mp.solutions.drawing_utils\n",
    "\n",
    "def extract_landmarks(image_path):\n",
    "    with mp_holistic.Holistic(static_image_mode=True) as holistic:\n",
    "        image = cv2.imread(image_path)\n",
    "        results = holistic.process(cv2.cvtColor(image, cv2.COLOR_BGR2RGB))\n",
    "        return results\n",
    "\n",
    "columns = ['ImageName', 'Action']\n",
    "\n",
    "max_pose_landmarks = 33\n",
    "max_face_landmarks = 468\n",
    "\n",
    "for i in range(max_pose_landmarks):\n",
    "    columns.extend([f'pose_{i}_x', f'pose_{i}_y', f'pose_{i}_z', f'pose_{i}_visibility'])\n",
    "\n",
    "for i in range(max_face_landmarks):\n",
    "    columns.extend([f'face_{i}_x', f'face_{i}_y', f'face_{i}_z'])\n",
    "\n",
    "df_landmarks = pd.DataFrame(columns=columns)\n",
    "\n",
    "for _, row in df_filtered.iterrows():\n",
    "    image_path = f\"../data/02_intermediate/images/{row['ImageName']}\"\n",
    "    results = extract_landmarks(image_path)\n",
    "    data = [row['ImageName'], row['Action']]\n",
    "\n",
    "    if results.pose_landmarks:\n",
    "        pose = results.pose_landmarks.landmark\n",
    "        pose_row = list(np.array([[landmark.x, landmark.y, landmark.z, landmark.visibility] for landmark in pose]).flatten())\n",
    "    else:\n",
    "        pose_row = [np.nan] * (max_pose_landmarks * 4)\n",
    "\n",
    "    if results.face_landmarks:\n",
    "        face = results.face_landmarks.landmark\n",
    "        face_row = list(np.array([[landmark.x, landmark.y, landmark.z] for landmark in face]).flatten())\n",
    "    else:\n",
    "        face_row = [np.nan] * (max_face_landmarks * 3)\n",
    "\n",
    "    row_data = data + pose_row + face_row\n",
    "    df_landmarks = pd.concat([df_landmarks, pd.DataFrame([row_data], columns=columns)], ignore_index=True)\n",
    "\n",
    "df_landmarks.to_csv('../data/04_feature/final_landmarks_with_actions.csv', index=False)"
   ]
  },
  {
   "cell_type": "code",
   "execution_count": 3,
   "metadata": {},
   "outputs": [],
   "source": [
    "df_landmarks = pd.read_csv('../data/04_feature/final_landmarks_with_actions.csv')"
   ]
  },
  {
   "cell_type": "code",
   "execution_count": 4,
   "metadata": {},
   "outputs": [
    {
     "data": {
      "text/html": [
       "<div>\n",
       "<style scoped>\n",
       "    .dataframe tbody tr th:only-of-type {\n",
       "        vertical-align: middle;\n",
       "    }\n",
       "\n",
       "    .dataframe tbody tr th {\n",
       "        vertical-align: top;\n",
       "    }\n",
       "\n",
       "    .dataframe thead th {\n",
       "        text-align: right;\n",
       "    }\n",
       "</style>\n",
       "<table border=\"1\" class=\"dataframe\">\n",
       "  <thead>\n",
       "    <tr style=\"text-align: right;\">\n",
       "      <th></th>\n",
       "      <th>ImageName</th>\n",
       "      <th>Action</th>\n",
       "      <th>pose_0_x</th>\n",
       "      <th>pose_0_y</th>\n",
       "      <th>pose_0_z</th>\n",
       "      <th>pose_0_visibility</th>\n",
       "      <th>pose_1_x</th>\n",
       "      <th>pose_1_y</th>\n",
       "      <th>pose_1_z</th>\n",
       "      <th>pose_1_visibility</th>\n",
       "      <th>...</th>\n",
       "      <th>face_464_z</th>\n",
       "      <th>face_465_x</th>\n",
       "      <th>face_465_y</th>\n",
       "      <th>face_465_z</th>\n",
       "      <th>face_466_x</th>\n",
       "      <th>face_466_y</th>\n",
       "      <th>face_466_z</th>\n",
       "      <th>face_467_x</th>\n",
       "      <th>face_467_y</th>\n",
       "      <th>face_467_z</th>\n",
       "    </tr>\n",
       "  </thead>\n",
       "  <tbody>\n",
       "    <tr>\n",
       "      <th>0</th>\n",
       "      <td>084922341.jpg</td>\n",
       "      <td>ballroom</td>\n",
       "      <td>0.477999</td>\n",
       "      <td>0.243427</td>\n",
       "      <td>-0.104067</td>\n",
       "      <td>0.997500</td>\n",
       "      <td>0.480529</td>\n",
       "      <td>0.218856</td>\n",
       "      <td>-0.105465</td>\n",
       "      <td>0.996411</td>\n",
       "      <td>...</td>\n",
       "      <td>NaN</td>\n",
       "      <td>NaN</td>\n",
       "      <td>NaN</td>\n",
       "      <td>NaN</td>\n",
       "      <td>NaN</td>\n",
       "      <td>NaN</td>\n",
       "      <td>NaN</td>\n",
       "      <td>NaN</td>\n",
       "      <td>NaN</td>\n",
       "      <td>NaN</td>\n",
       "    </tr>\n",
       "    <tr>\n",
       "      <th>1</th>\n",
       "      <td>065761289.jpg</td>\n",
       "      <td>ballroom</td>\n",
       "      <td>0.623431</td>\n",
       "      <td>0.388648</td>\n",
       "      <td>-0.107929</td>\n",
       "      <td>0.999994</td>\n",
       "      <td>0.626444</td>\n",
       "      <td>0.378512</td>\n",
       "      <td>-0.097112</td>\n",
       "      <td>0.999991</td>\n",
       "      <td>...</td>\n",
       "      <td>0.001516</td>\n",
       "      <td>0.624713</td>\n",
       "      <td>0.375394</td>\n",
       "      <td>0.000605</td>\n",
       "      <td>0.630487</td>\n",
       "      <td>0.375629</td>\n",
       "      <td>0.004073</td>\n",
       "      <td>0.631177</td>\n",
       "      <td>0.374741</td>\n",
       "      <td>0.004253</td>\n",
       "    </tr>\n",
       "    <tr>\n",
       "      <th>2</th>\n",
       "      <td>056830860.jpg</td>\n",
       "      <td>ballroom</td>\n",
       "      <td>0.420640</td>\n",
       "      <td>0.365611</td>\n",
       "      <td>0.003073</td>\n",
       "      <td>0.997565</td>\n",
       "      <td>0.425081</td>\n",
       "      <td>0.349444</td>\n",
       "      <td>0.013141</td>\n",
       "      <td>0.997440</td>\n",
       "      <td>...</td>\n",
       "      <td>NaN</td>\n",
       "      <td>NaN</td>\n",
       "      <td>NaN</td>\n",
       "      <td>NaN</td>\n",
       "      <td>NaN</td>\n",
       "      <td>NaN</td>\n",
       "      <td>NaN</td>\n",
       "      <td>NaN</td>\n",
       "      <td>NaN</td>\n",
       "      <td>NaN</td>\n",
       "    </tr>\n",
       "    <tr>\n",
       "      <th>3</th>\n",
       "      <td>009367477.jpg</td>\n",
       "      <td>ballroom</td>\n",
       "      <td>NaN</td>\n",
       "      <td>NaN</td>\n",
       "      <td>NaN</td>\n",
       "      <td>NaN</td>\n",
       "      <td>NaN</td>\n",
       "      <td>NaN</td>\n",
       "      <td>NaN</td>\n",
       "      <td>NaN</td>\n",
       "      <td>...</td>\n",
       "      <td>NaN</td>\n",
       "      <td>NaN</td>\n",
       "      <td>NaN</td>\n",
       "      <td>NaN</td>\n",
       "      <td>NaN</td>\n",
       "      <td>NaN</td>\n",
       "      <td>NaN</td>\n",
       "      <td>NaN</td>\n",
       "      <td>NaN</td>\n",
       "      <td>NaN</td>\n",
       "    </tr>\n",
       "    <tr>\n",
       "      <th>4</th>\n",
       "      <td>036771580.jpg</td>\n",
       "      <td>ballroom</td>\n",
       "      <td>0.264926</td>\n",
       "      <td>0.227335</td>\n",
       "      <td>-0.112517</td>\n",
       "      <td>0.998056</td>\n",
       "      <td>0.268532</td>\n",
       "      <td>0.214265</td>\n",
       "      <td>-0.109486</td>\n",
       "      <td>0.996739</td>\n",
       "      <td>...</td>\n",
       "      <td>-0.004300</td>\n",
       "      <td>0.264555</td>\n",
       "      <td>0.216310</td>\n",
       "      <td>-0.004516</td>\n",
       "      <td>0.273764</td>\n",
       "      <td>0.212818</td>\n",
       "      <td>-0.008668</td>\n",
       "      <td>0.274791</td>\n",
       "      <td>0.210975</td>\n",
       "      <td>-0.009200</td>\n",
       "    </tr>\n",
       "    <tr>\n",
       "      <th>...</th>\n",
       "      <td>...</td>\n",
       "      <td>...</td>\n",
       "      <td>...</td>\n",
       "      <td>...</td>\n",
       "      <td>...</td>\n",
       "      <td>...</td>\n",
       "      <td>...</td>\n",
       "      <td>...</td>\n",
       "      <td>...</td>\n",
       "      <td>...</td>\n",
       "      <td>...</td>\n",
       "      <td>...</td>\n",
       "      <td>...</td>\n",
       "      <td>...</td>\n",
       "      <td>...</td>\n",
       "      <td>...</td>\n",
       "      <td>...</td>\n",
       "      <td>...</td>\n",
       "      <td>...</td>\n",
       "      <td>...</td>\n",
       "      <td>...</td>\n",
       "    </tr>\n",
       "    <tr>\n",
       "      <th>2596</th>\n",
       "      <td>025820296.jpg</td>\n",
       "      <td>resistance training</td>\n",
       "      <td>0.201862</td>\n",
       "      <td>0.143329</td>\n",
       "      <td>-0.007814</td>\n",
       "      <td>0.999397</td>\n",
       "      <td>0.194155</td>\n",
       "      <td>0.126794</td>\n",
       "      <td>-0.003160</td>\n",
       "      <td>0.999372</td>\n",
       "      <td>...</td>\n",
       "      <td>NaN</td>\n",
       "      <td>NaN</td>\n",
       "      <td>NaN</td>\n",
       "      <td>NaN</td>\n",
       "      <td>NaN</td>\n",
       "      <td>NaN</td>\n",
       "      <td>NaN</td>\n",
       "      <td>NaN</td>\n",
       "      <td>NaN</td>\n",
       "      <td>NaN</td>\n",
       "    </tr>\n",
       "    <tr>\n",
       "      <th>2597</th>\n",
       "      <td>097064125.jpg</td>\n",
       "      <td>resistance training</td>\n",
       "      <td>0.412948</td>\n",
       "      <td>0.522286</td>\n",
       "      <td>-0.326439</td>\n",
       "      <td>0.999448</td>\n",
       "      <td>0.413722</td>\n",
       "      <td>0.506519</td>\n",
       "      <td>-0.323732</td>\n",
       "      <td>0.999839</td>\n",
       "      <td>...</td>\n",
       "      <td>NaN</td>\n",
       "      <td>NaN</td>\n",
       "      <td>NaN</td>\n",
       "      <td>NaN</td>\n",
       "      <td>NaN</td>\n",
       "      <td>NaN</td>\n",
       "      <td>NaN</td>\n",
       "      <td>NaN</td>\n",
       "      <td>NaN</td>\n",
       "      <td>NaN</td>\n",
       "    </tr>\n",
       "    <tr>\n",
       "      <th>2598</th>\n",
       "      <td>059740789.jpg</td>\n",
       "      <td>resistance training</td>\n",
       "      <td>0.430848</td>\n",
       "      <td>0.540816</td>\n",
       "      <td>-0.193367</td>\n",
       "      <td>0.991907</td>\n",
       "      <td>0.432859</td>\n",
       "      <td>0.526751</td>\n",
       "      <td>-0.190976</td>\n",
       "      <td>0.971611</td>\n",
       "      <td>...</td>\n",
       "      <td>NaN</td>\n",
       "      <td>NaN</td>\n",
       "      <td>NaN</td>\n",
       "      <td>NaN</td>\n",
       "      <td>NaN</td>\n",
       "      <td>NaN</td>\n",
       "      <td>NaN</td>\n",
       "      <td>NaN</td>\n",
       "      <td>NaN</td>\n",
       "      <td>NaN</td>\n",
       "    </tr>\n",
       "    <tr>\n",
       "      <th>2599</th>\n",
       "      <td>000708647.jpg</td>\n",
       "      <td>resistance training</td>\n",
       "      <td>0.459628</td>\n",
       "      <td>0.382458</td>\n",
       "      <td>-0.084313</td>\n",
       "      <td>0.997350</td>\n",
       "      <td>0.459678</td>\n",
       "      <td>0.360366</td>\n",
       "      <td>-0.095997</td>\n",
       "      <td>0.997010</td>\n",
       "      <td>...</td>\n",
       "      <td>-0.003691</td>\n",
       "      <td>0.480774</td>\n",
       "      <td>0.390505</td>\n",
       "      <td>-0.003916</td>\n",
       "      <td>0.491623</td>\n",
       "      <td>0.389910</td>\n",
       "      <td>-0.009860</td>\n",
       "      <td>0.493047</td>\n",
       "      <td>0.388514</td>\n",
       "      <td>-0.010559</td>\n",
       "    </tr>\n",
       "    <tr>\n",
       "      <th>2600</th>\n",
       "      <td>003412990.jpg</td>\n",
       "      <td>resistance training</td>\n",
       "      <td>0.104117</td>\n",
       "      <td>0.591944</td>\n",
       "      <td>0.135621</td>\n",
       "      <td>0.976850</td>\n",
       "      <td>0.099146</td>\n",
       "      <td>0.577607</td>\n",
       "      <td>0.115562</td>\n",
       "      <td>0.984869</td>\n",
       "      <td>...</td>\n",
       "      <td>NaN</td>\n",
       "      <td>NaN</td>\n",
       "      <td>NaN</td>\n",
       "      <td>NaN</td>\n",
       "      <td>NaN</td>\n",
       "      <td>NaN</td>\n",
       "      <td>NaN</td>\n",
       "      <td>NaN</td>\n",
       "      <td>NaN</td>\n",
       "      <td>NaN</td>\n",
       "    </tr>\n",
       "  </tbody>\n",
       "</table>\n",
       "<p>2601 rows × 1538 columns</p>\n",
       "</div>"
      ],
      "text/plain": [
       "          ImageName               Action  pose_0_x  pose_0_y  pose_0_z  \\\n",
       "0     084922341.jpg             ballroom  0.477999  0.243427 -0.104067   \n",
       "1     065761289.jpg             ballroom  0.623431  0.388648 -0.107929   \n",
       "2     056830860.jpg             ballroom  0.420640  0.365611  0.003073   \n",
       "3     009367477.jpg             ballroom       NaN       NaN       NaN   \n",
       "4     036771580.jpg             ballroom  0.264926  0.227335 -0.112517   \n",
       "...             ...                  ...       ...       ...       ...   \n",
       "2596  025820296.jpg  resistance training  0.201862  0.143329 -0.007814   \n",
       "2597  097064125.jpg  resistance training  0.412948  0.522286 -0.326439   \n",
       "2598  059740789.jpg  resistance training  0.430848  0.540816 -0.193367   \n",
       "2599  000708647.jpg  resistance training  0.459628  0.382458 -0.084313   \n",
       "2600  003412990.jpg  resistance training  0.104117  0.591944  0.135621   \n",
       "\n",
       "      pose_0_visibility  pose_1_x  pose_1_y  pose_1_z  pose_1_visibility  ...  \\\n",
       "0              0.997500  0.480529  0.218856 -0.105465           0.996411  ...   \n",
       "1              0.999994  0.626444  0.378512 -0.097112           0.999991  ...   \n",
       "2              0.997565  0.425081  0.349444  0.013141           0.997440  ...   \n",
       "3                   NaN       NaN       NaN       NaN                NaN  ...   \n",
       "4              0.998056  0.268532  0.214265 -0.109486           0.996739  ...   \n",
       "...                 ...       ...       ...       ...                ...  ...   \n",
       "2596           0.999397  0.194155  0.126794 -0.003160           0.999372  ...   \n",
       "2597           0.999448  0.413722  0.506519 -0.323732           0.999839  ...   \n",
       "2598           0.991907  0.432859  0.526751 -0.190976           0.971611  ...   \n",
       "2599           0.997350  0.459678  0.360366 -0.095997           0.997010  ...   \n",
       "2600           0.976850  0.099146  0.577607  0.115562           0.984869  ...   \n",
       "\n",
       "      face_464_z  face_465_x  face_465_y  face_465_z  face_466_x  face_466_y  \\\n",
       "0            NaN         NaN         NaN         NaN         NaN         NaN   \n",
       "1       0.001516    0.624713    0.375394    0.000605    0.630487    0.375629   \n",
       "2            NaN         NaN         NaN         NaN         NaN         NaN   \n",
       "3            NaN         NaN         NaN         NaN         NaN         NaN   \n",
       "4      -0.004300    0.264555    0.216310   -0.004516    0.273764    0.212818   \n",
       "...          ...         ...         ...         ...         ...         ...   \n",
       "2596         NaN         NaN         NaN         NaN         NaN         NaN   \n",
       "2597         NaN         NaN         NaN         NaN         NaN         NaN   \n",
       "2598         NaN         NaN         NaN         NaN         NaN         NaN   \n",
       "2599   -0.003691    0.480774    0.390505   -0.003916    0.491623    0.389910   \n",
       "2600         NaN         NaN         NaN         NaN         NaN         NaN   \n",
       "\n",
       "      face_466_z  face_467_x  face_467_y  face_467_z  \n",
       "0            NaN         NaN         NaN         NaN  \n",
       "1       0.004073    0.631177    0.374741    0.004253  \n",
       "2            NaN         NaN         NaN         NaN  \n",
       "3            NaN         NaN         NaN         NaN  \n",
       "4      -0.008668    0.274791    0.210975   -0.009200  \n",
       "...          ...         ...         ...         ...  \n",
       "2596         NaN         NaN         NaN         NaN  \n",
       "2597         NaN         NaN         NaN         NaN  \n",
       "2598         NaN         NaN         NaN         NaN  \n",
       "2599   -0.009860    0.493047    0.388514   -0.010559  \n",
       "2600         NaN         NaN         NaN         NaN  \n",
       "\n",
       "[2601 rows x 1538 columns]"
      ]
     },
     "execution_count": 4,
     "metadata": {},
     "output_type": "execute_result"
    }
   ],
   "source": [
    "df_landmarks"
   ]
  },
  {
   "cell_type": "markdown",
   "metadata": {},
   "source": [
    "# 2.0 Cleaning data"
   ]
  },
  {
   "cell_type": "markdown",
   "metadata": {},
   "source": [
    "- We have a lot of null data, so let's outline a cleaning approach\n",
    "\n",
    "-> It's important to note that although there are several methods to clean the data, heavy processing becomes a bottleneck in real-time detection on webcams for example, so I'll simply treat the null data generically to prioritize performance."
   ]
  },
  {
   "cell_type": "code",
   "execution_count": 5,
   "metadata": {},
   "outputs": [],
   "source": [
    "cleaned_data = df_landmarks.copy()"
   ]
  },
  {
   "cell_type": "code",
   "execution_count": 6,
   "metadata": {},
   "outputs": [
    {
     "data": {
      "text/plain": [
       "(2601, 1538)"
      ]
     },
     "execution_count": 6,
     "metadata": {},
     "output_type": "execute_result"
    }
   ],
   "source": [
    "cleaned_data.shape"
   ]
  },
  {
   "cell_type": "code",
   "execution_count": 7,
   "metadata": {},
   "outputs": [],
   "source": [
    "def cleaning_data(data):\n",
    "    data = data.fillna(0)\n",
    "\n",
    "    return data\n",
    "\n",
    "cleaned_data = cleaning_data(cleaned_data)"
   ]
  },
  {
   "cell_type": "code",
   "execution_count": 8,
   "metadata": {},
   "outputs": [
    {
     "data": {
      "text/plain": [
       "(2601, 1538)"
      ]
     },
     "execution_count": 8,
     "metadata": {},
     "output_type": "execute_result"
    }
   ],
   "source": [
    "cleaned_data.shape"
   ]
  },
  {
   "cell_type": "markdown",
   "metadata": {},
   "source": [
    "# 3.0 Prepare data to machine learning"
   ]
  },
  {
   "cell_type": "code",
   "execution_count": 9,
   "metadata": {},
   "outputs": [],
   "source": [
    "X = cleaned_data.drop([\"Action\", \"ImageName\"], axis=1)\n",
    "y = cleaned_data[\"Action\"]\n",
    "\n",
    "X_train, X_test, y_train, y_test = train_test_split(X, y, test_size=0.2, random_state=42)"
   ]
  },
  {
   "cell_type": "markdown",
   "metadata": {},
   "source": [
    "# 4.0 Machine Learning"
   ]
  },
  {
   "cell_type": "code",
   "execution_count": 34,
   "metadata": {},
   "outputs": [],
   "source": [
    "pipelines = {\n",
    "    'lr':make_pipeline(StandardScaler(), LogisticRegression()),\n",
    "    'rc':make_pipeline(StandardScaler(), RidgeClassifier()),\n",
    "    'rf':make_pipeline(StandardScaler(), RandomForestClassifier()),\n",
    "    'gb':make_pipeline(StandardScaler(), GradientBoostingClassifier()),\n",
    "}"
   ]
  },
  {
   "cell_type": "code",
   "execution_count": null,
   "metadata": {},
   "outputs": [],
   "source": [
    "fit_models = {}\n",
    "for algo, pipeline in pipelines.items():\n",
    "    model = pipeline.fit(X_train, y_train)\n",
    "    fit_models[algo] = model"
   ]
  },
  {
   "cell_type": "code",
   "execution_count": 177,
   "metadata": {},
   "outputs": [
    {
     "name": "stdout",
     "output_type": "stream",
     "text": [
      "lr 0.2878807863685754\n",
      "rc 0.29061403724470747\n",
      "rf 0.37521235600002995\n",
      "gb 0.3180176568254469\n"
     ]
    }
   ],
   "source": [
    "for algo, model in fit_models.items():\n",
    "    yhat = model.predict(X_test)\n",
    "    print(algo, f1_score(y_test, yhat, average='weighted'))"
   ]
  },
  {
   "cell_type": "code",
   "execution_count": 178,
   "metadata": {},
   "outputs": [],
   "source": [
    "with open('../data/06_models/rf_body_language.pkl', 'wb') as f:\n",
    "    pickle.dump(fit_models['rf'], f)"
   ]
  },
  {
   "cell_type": "code",
   "execution_count": 10,
   "metadata": {},
   "outputs": [],
   "source": [
    "with open('../data/06_models/rf_body_language.pkl', 'rb') as f:\n",
    "    model = pickle.load(f)"
   ]
  },
  {
   "cell_type": "markdown",
   "metadata": {},
   "source": [
    "# 5.0 Identify real-time actions"
   ]
  },
  {
   "cell_type": "markdown",
   "metadata": {},
   "source": [
    "- First I will prepare the transformations used to be applied to new inputs"
   ]
  },
  {
   "cell_type": "code",
   "execution_count": 11,
   "metadata": {},
   "outputs": [],
   "source": [
    "ss = StandardScaler()\n",
    "X_transformed_train = ss.fit_transform(X_train)\n",
    "\n",
    "feature_names = X_train.columns.tolist()"
   ]
  },
  {
   "cell_type": "markdown",
   "metadata": {},
   "source": [
    "- Here I will need to rebuild the landmarks function as there may be null points in the landmark and cause an error when extracting new information"
   ]
  },
  {
   "cell_type": "markdown",
   "metadata": {},
   "source": [
    "- Instructions:\n",
    "\n",
    "1) You have two inputs for the `process_video` function, one with the video path if you want to run a video and another for the camera channel if you want to use the webcam.\n",
    "2) Once you have executed the function you can end the process with the ESC key."
   ]
  },
  {
   "cell_type": "code",
   "execution_count": null,
   "metadata": {},
   "outputs": [],
   "source": [
    "def extract_landmarks(results, num_pose_landmarks=33, num_face_landmarks=468):\n",
    "    if results.pose_landmarks:\n",
    "        pose_landmarks = [[lm.x, lm.y, lm.z, lm.visibility] for lm in results.pose_landmarks.landmark]\n",
    "    else:\n",
    "        pose_landmarks = [[0, 0, 0, 0] for _ in range(num_pose_landmarks)]\n",
    "    \n",
    "    if results.face_landmarks:\n",
    "        face_landmarks = [[lm.x, lm.y, lm.z] for lm in results.face_landmarks.landmark]\n",
    "    else:\n",
    "        face_landmarks = [[0, 0, 0] for _ in range(num_face_landmarks)]\n",
    "\n",
    "    flat_landmarks = [item for sublist in pose_landmarks + face_landmarks for item in sublist]\n",
    "\n",
    "    return flat_landmarks"
   ]
  },
  {
   "cell_type": "code",
   "execution_count": null,
   "metadata": {},
   "outputs": [],
   "source": [
    "def process_video(webcam_input=0, video_path=None):\n",
    "    \"\"\"\n",
    "    Processes video input from a file or webcam, applies pose estimation and action prediction, and displays the results.\n",
    "\n",
    "    This function initializes video capture either from a specified video file or webcam. It then continuously reads frames,\n",
    "    processes each frame using the MediaPipe Holistic model to detect human pose and face landmarks, predicts the action using\n",
    "    a pre-trained model, and displays the predicted action and its probability on the video feed.\n",
    "\n",
    "    Parameters\n",
    "    ----------\n",
    "    webcam_input : int, optional\n",
    "        The device index of the webcam (default is 0, which usually represents the default webcam).\n",
    "        Ignored if `video_path` is provided.\n",
    "    video_path : str, optional\n",
    "        The path to the video file to be processed. If None, webcam input is used instead.\n",
    "\n",
    "    Notes\n",
    "    -----\n",
    "    - Press 'ESC' to exit the video feed.\n",
    "    - The function assumes the existence of a pre-defined `model` for action prediction and `ss` (StandardScaler) for data scaling.\n",
    "    - `extract_landmarks` and `cleaning_data` are required utility functions for landmarks extraction and data preparation.\n",
    "\n",
    "    Examples\n",
    "    --------\n",
    "    Process video from the default webcam:\n",
    "    \n",
    "    >>> process_video()\n",
    "\n",
    "    Process video from a specified video file:\n",
    "    \n",
    "    >>> process_video(video_path='path/to/your/video.mp4')\n",
    "    \"\"\"\n",
    "    if video_path:\n",
    "        cap = cv2.VideoCapture(video_path)\n",
    "    else:\n",
    "        cap = cv2.VideoCapture(webcam_input)\n",
    "    \n",
    "    with mp_holistic.Holistic(min_detection_confidence=0.5, min_tracking_confidence=0.5) as holistic:\n",
    "        while cap.isOpened():\n",
    "            success, frame = cap.read()\n",
    "            if not success:\n",
    "                if video_path:\n",
    "                    print(\"Fim do vídeo.\")\n",
    "                else:\n",
    "                    print(\"Ignorando frames vazios.\")\n",
    "                break\n",
    "            \n",
    "            image = cv2.cvtColor(frame, cv2.COLOR_BGR2RGB)\n",
    "            results = holistic.process(image)\n",
    "\n",
    "            landmarks_row = extract_landmarks(results)\n",
    "\n",
    "            X = pd.DataFrame([landmarks_row])\n",
    "            \n",
    "            X = cleaning_data(X)\n",
    "            X_transformed = ss.transform(X)\n",
    "            body_language_class = model.predict(X_transformed)[0]\n",
    "            body_language_prob = model.predict_proba(X_transformed)[0]\n",
    "\n",
    "            cv2.putText(frame, body_language_class, (10, 50), cv2.FONT_HERSHEY_SIMPLEX, 1, (0, 255, 0), 2, cv2.LINE_AA)\n",
    "            cv2.putText(frame, f'Prob: {round(body_language_prob[np.argmax(body_language_prob)],2)}', (10, 80), cv2.FONT_HERSHEY_SIMPLEX, 1, (0, 255, 0), 2, cv2.LINE_AA)\n",
    "            \n",
    "            cv2.imshow('Video Feed', frame)\n",
    "            \n",
    "            if cv2.waitKey(5) & 0xFF == 27:\n",
    "                break\n",
    "    \n",
    "    cap.release()\n",
    "    cv2.destroyAllWindows()\n",
    "\n",
    "# Usage example to video\n",
    "video_path = 'video-path.mp4'\n",
    "process_video(video_path)\n",
    "\n",
    "# Usage example to webcam\n",
    "process_video(webcam_input=1)"
   ]
  }
 ],
 "metadata": {
  "kernelspec": {
   "display_name": "body_language_classification",
   "language": "python",
   "name": "python3"
  },
  "language_info": {
   "codemirror_mode": {
    "name": "ipython",
    "version": 3
   },
   "file_extension": ".py",
   "mimetype": "text/x-python",
   "name": "python",
   "nbconvert_exporter": "python",
   "pygments_lexer": "ipython3",
   "version": "3.10.14"
  }
 },
 "nbformat": 4,
 "nbformat_minor": 2
}
